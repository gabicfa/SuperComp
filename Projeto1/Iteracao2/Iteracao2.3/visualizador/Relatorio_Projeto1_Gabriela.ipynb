{
 "cells": [
  {
   "cell_type": "markdown",
   "metadata": {},
   "source": [
    "# Projeto 1 – Simulação de física 2D\n",
    "## Super Computação - 2018/2\n",
    "### Gabriela Almeida"
   ]
  },
  {
   "cell_type": "markdown",
   "metadata": {},
   "source": [
    "Para o primeiro projeto de super computação foi tratado o problema da simulação de física 2D. Foi feito uma simulação simplificada na qual todo corpo é representado por uma bola se movimentando em um plano. O uso da super computação nesse caso é interessante pois permite tanto aumentar o intervalo de tempo usado nos cálculos quanto aumentar o número de corpos na simulação."
   ]
  },
  {
   "cell_type": "markdown",
   "metadata": {},
   "source": [
    "Os objetivos desse projeto são:\n",
    "    1. Apresentar uma situação o mais realista possível de aplicação de super computação;\n",
    "    2. Aplicar conhecimentos de vetorização e programação multi-core para aumentar a acurácia da simulação;\n",
    "    3. Realizar um estudo detalhado do impacto que cada técnica aplicada tem no desempenho da simulação;"
   ]
  },
  {
   "cell_type": "markdown",
   "metadata": {},
   "source": [
    "Após ter definido e implementado o modelo físico, buscou-se otimizar o programa feito usando diferentes técnicas de super computação que serão melhor explicados mais para frente"
   ]
  },
  {
   "cell_type": "markdown",
   "metadata": {},
   "source": [
    "## Descrição do modelo"
   ]
  },
  {
   "cell_type": "markdown",
   "metadata": {},
   "source": [
    "O projeto adotou um modelo de simulação o qual cada corpo simulado possui uma massa e vetores represetando sua aceleração, velocidade e posição. \n",
    "Como se é conhecido, as seguintes equações diferenciais rejem a velocidade $\\vec{{v}}$ e a posição $\\vec{{r}} = (x,y)$ de um objeto dada sua aceleração. Todas as equações abaixo estão descritas como veotres em duas dimensões e, portanto, podem ser decopostas em suas componentes verticais e horizontais."
   ]
  },
  {
   "cell_type": "markdown",
   "metadata": {},
   "source": [
    "\\begin{align}\n",
    "\\vec{{v}} = \\frac{\\partial\\vec{{r}}(t)}{\\partial\\vec{{t}}} \n",
    "\\end{align}\n",
    "\n",
    "\\begin{align}\n",
    "\\vec{{a}} = \\frac{\\partial\\vec{{v}}(t)}{\\partial\\vec{{t}}} = \\frac{\\partial^2\\vec{{r}}(t)}{\\partial\\vec{{t^2}}}\n",
    "\\end{align}"
   ]
  },
  {
   "cell_type": "markdown",
   "metadata": {},
   "source": [
    "Essas equações diferenciais foram aproximadas a derivada por uma diferença finita"
   ]
  },
  {
   "cell_type": "markdown",
   "metadata": {},
   "source": [
    "\\begin{align}\n",
    "\\frac{\\partial{{f}}}{\\partial{{x}}}(x_0) = \\frac{f(x_0+h)-f(x_0)}{h}\n",
    "\\end{align}"
   ]
  },
  {
   "cell_type": "markdown",
   "metadata": {},
   "source": [
    "Quanto menor o valor de h mais próxima será a aproximação. Aplicando nas equações acima obtemos as equações de movimennto clássicas:"
   ]
  },
  {
   "cell_type": "markdown",
   "metadata": {},
   "source": [
    "\\begin{align}\n",
    "\\vec{{v}}(t_0+\\Delta t) = \\vec{{v}}(t_0)+{\\Delta{t}\\vec{{a}}(t_0)} \\\\\n",
    "\\vec{{r}}(t_0+\\Delta t) = \\vec{{r}}(t_0)+{\\Delta{t}\\vec{{v}}(t_0)}\n",
    "\\end{align}"
   ]
  },
  {
   "cell_type": "markdown",
   "metadata": {},
   "source": [
    "A aceleração $\\vec{{a}}$ é definida pelo atrito dinâmico entre uma bola e o chão. Sua direção é contraria a velocidade do objeto e seu comprimento é definido pela seguinte expressão:"
   ]
  },
  {
   "cell_type": "markdown",
   "metadata": {},
   "source": [
    "\\begin{align}\n",
    "||{a}|| = \\mu{N} = \\mu{m}{g}\n",
    "\\end{align}"
   ]
  },
  {
   "cell_type": "markdown",
   "metadata": {},
   "source": [
    "onde m é a massa da bola e ${g} = 9.8 m/s^{2}$. Caso não houvesse atrito as bolas nunca parariam de se movimentar e a simulação duraria para sempre."
   ]
  },
  {
   "cell_type": "markdown",
   "metadata": {},
   "source": [
    "No código disponibilizado, as equações apresentadas estão implementadas no método walk() indicado a baixo:"
   ]
  },
  {
   "cell_type": "raw",
   "metadata": {},
   "source": [
    "//Movimentação dos corpos \n",
    "void Visualizador::walk(){\n",
    "\n",
    "    // Análise das velocidade para checar se bolinhas irão parar devido o atrito\n",
    "    for(int b = 0; b<num_balls; b++){\n",
    "        bodiesProximo[b].x = bodiesAtual[b].x + bodiesAtual[b].vx * delta_t; \n",
    "        bodiesProximo[b].y = bodiesAtual[b].y + bodiesAtual[b].vy * delta_t;\n",
    "\n",
    "        if(bodiesAtual[b].vx>0){\n",
    "            bodiesProximo[b].vx = bodiesAtual[b].vx - delta_t * bodiesAtual[b].a;\n",
    "            if(bodiesProximo[b].vx<0){\n",
    "                bodiesProximo[b].vx = 0;\n",
    "            }\n",
    "        }\n",
    "        else{\n",
    "            bodiesProximo[b].vx = bodiesAtual[b].vx + delta_t * bodiesAtual[b].a;\n",
    "            if(bodiesProximo[b].vx>0){\n",
    "                bodiesProximo[b].vx = 0;\n",
    "            }\n",
    "        }\n",
    "        \n",
    "        if(bodiesAtual[b].vy>0){\n",
    "            bodiesProximo[b].vy = bodiesAtual[b].vy - delta_t * bodiesAtual[b].a;\n",
    "            if(bodiesProximo[b].vy<0){\n",
    "                bodiesProximo[b].vy = 0;\n",
    "            }\n",
    "        }\n",
    "        else{\n",
    "            bodiesProximo[b].vy = bodiesAtual[b].vy + delta_t * bodiesAtual[b].a;\n",
    "            if(bodiesProximo[b].vy>0){\n",
    "                bodiesProximo[b].vy = 0;\n",
    "            }\n",
    "        }\n",
    "    }\n",
    "}"
   ]
  },
  {
   "cell_type": "markdown",
   "metadata": {},
   "source": [
    "Ao se movimentar é natural que as bolas se choquem com as bordas do campo de simulação e entre si. Para poder prever o comportamento dos corpos ao longo da simulação foi adotado o modelo de colisão elástica, o qual considera que tanto a quantidade de moviemnto quanto a energia cinética se mantém constantes após a colisão. Ou seja, dados dois objetos com massas ${m_1}$ e ${m_2}$ e velocidades antes da colisão ${v_1}$ e ${v_2}$, suas velocidades após a colisão ${u_1}$ e ${u_2}$ obdecem as seguintes regras. Como os objetos tem massas e velocidades diferentes, o choque entre os objetos altera o módulo dos vetores velocidade e sua direção."
   ]
  },
  {
   "cell_type": "markdown",
   "metadata": {},
   "source": [
    "\\begin{align}\n",
    "{m_1}{v_1}+{m_2}{v_2}={m_1}{u_1}+{m_2}{u_2} \\\\\n",
    "\\end{align}\n",
    "\\begin{align}\n",
    "\\frac{1}{2}{m_1}v_1^2+\\frac{1}{2}{m_2}v_2^2 = \\frac{1}{2}{m_1}u_1^2+\\frac{1}{2}{m_2}u_2^2\n",
    "\\end{align}"
   ]
  },
  {
   "cell_type": "markdown",
   "metadata": {},
   "source": [
    "Para tornar as contas mais simples supôs-se que ${{v_2}}=0$ (o que é equivalente a adotar como referencial o objeto 2). Então isolamos a velocidade ${{u_2}}=0$, resultando em"
   ]
  },
  {
   "cell_type": "markdown",
   "metadata": {},
   "source": [
    "\\begin{align}\n",
    "{u_2}=\\frac{m_1(u_1 - v_1)}{m_2}\n",
    "\\end{align}"
   ]
  },
  {
   "cell_type": "markdown",
   "metadata": {},
   "source": [
    "\\begin{align}\n",
    "{m_1}v_1^2+{m_2}v_2^2 = {m_1}u_1^2+{m_2}\\Bigl(\\frac{m_1(u_1 - v_1)}{m_2}\\Bigl)^2\\\\\n",
    "[m_1(m_1 + m_2)]{u_1^2}-[2m_1^2v_1]u_1+[m_1^2v_1^2-m_2m_1v_1^2]=0\n",
    "\\end{align}"
   ]
  },
  {
   "cell_type": "markdown",
   "metadata": {},
   "source": [
    "Existe ums solução muito simples para este sistema de equações: ${v_1}={u_1}$, ${u_2}=0$. Essa não é a solução desejada, pois segundo ela o objeto 1 pode continuar se movimentando e ignorar o choque. A outra solução da equação a cima é "
   ]
  },
  {
   "cell_type": "markdown",
   "metadata": {},
   "source": [
    "\\begin{align}\n",
    "{u_1}=\\frac{(m_1-m_2)}{m_1+m_2}v_1\n",
    "\\end{align}"
   ]
  },
  {
   "cell_type": "markdown",
   "metadata": {},
   "source": [
    "que resulta em "
   ]
  },
  {
   "cell_type": "markdown",
   "metadata": {},
   "source": [
    "\\begin{align}\n",
    "{u_1}=\\frac{(2m_1)}{m_1+m_2}v_1\n",
    "\\end{align}"
   ]
  },
  {
   "cell_type": "markdown",
   "metadata": {},
   "source": [
    "As equações acima foram dadas para o caso em uma dimensão. Porém, podemos decompor cada vetor velocidade em duas componentes: uma na direção da colisão e outra perpendicular à colisão. A velocidade perpendicular não tem nenhum efeito no choque, fazendo com que o problema seja reduzido a 1D na direção da força na direção da colisão. Isso nos indica que o vetor ${v_1}$ é, na verdade, o vetor velocidade do corpo 1 em relação ao corpo 2 projetado sobre o eixo de colisão entres essas bolas, denominado de ${r_c}$. Desse modo o vetor ${v_1}$, o qual agora será denominado ${v_{12c}}$ é calculado da seguinte forma"
   ]
  },
  {
   "cell_type": "markdown",
   "metadata": {},
   "source": [
    "\\begin{align}\n",
    "{v_{12}}=v_1-v_2\\\\\n",
    "{a_{12}}=\\frac{{v_{12x}}{r_{cx}}+{v_{12y}}{r_{cy}}}{||{r}||}\\\\\n",
    "v_{12c} = v_{12}a_{12}\n",
    "\\end{align}"
   ]
  },
  {
   "cell_type": "markdown",
   "metadata": {},
   "source": [
    "Desse modo resolveu-se o problema 1D e depois reconstruiu o novo vetor velocidade mantendo a componente perpendicular à colisão somando-a com a nova componente calculada. Esse novo vetor é somado ao vetor ${v_2}$ original restabelecendo assim o referencial."
   ]
  },
  {
   "cell_type": "markdown",
   "metadata": {},
   "source": [
    "A implementação dessas contas pode ser encontrada no método collision() do arquivo disponibilisado. Ele foi feito da seguinte forma:"
   ]
  },
  {
   "cell_type": "raw",
   "metadata": {},
   "source": [
    "//Análise de colisões e cálculo das novas velocidades\n",
    "void Visualizador::collision(){\n",
    "\n",
    "    for(int b = 0; b<num_balls; b++){\n",
    "\n",
    "        //Análise de colisão com as bordas\n",
    "        if(bodiesProximo[b].x + bodiesProximo[b].radius >= field_width){\n",
    "            bodiesProximo[b].vx=-bodiesProximo[b].vx;\n",
    "        }\n",
    "        if(bodiesProximo[b].x - bodiesProximo[b].radius <= 0){\n",
    "            bodiesProximo[b].vx=-bodiesProximo[b].vx;\n",
    "        }\n",
    "        if(bodiesProximo[b].y + bodiesProximo[b].radius >= field_height){\n",
    "            bodiesProximo[b].vy=-bodiesProximo[b].vy;\n",
    "        }\n",
    "        if(bodiesProximo[b].y - bodiesProximo[b].radius <= 0){\n",
    "            bodiesProximo[b].vy=-bodiesProximo[b].vy;\n",
    "        }\n",
    "\n",
    "        //Análise de colisão com as outras bolas\n",
    "        for(int c = b+1; c < num_balls; c++){\n",
    "            double rx = bodiesProximo[c].x - bodiesProximo[b].x;\n",
    "            double ry = bodiesProximo[c].y - bodiesProximo[b].y;\n",
    "            double r = sqrt(pow(rx,2) + pow(ry,2));//raio entre os corpos\n",
    "\n",
    "            \n",
    "            if (r <= bodiesProximo[b].radius + bodiesProximo[c].radius){\n",
    "                //Corpos colidiram\n",
    "                if(atof(gui) == 0){\n",
    "                    choques.push_back(make_tuple(bodiesProximo[b].id, bodiesProximo[c].id, delta_t*iter));\n",
    "                }\n",
    "\n",
    "                //Velocidade do corpo B em relação ao corpo C\n",
    "                double vBCx = bodiesProximo[b].vx - bodiesProximo[c].vx;\n",
    "                double vBCy = bodiesProximo[b].vy - bodiesProximo[c].vy;\n",
    "\n",
    "                //Projeção da velocidade de B em relacao a C no raio de colisão\n",
    "                double aB = ((vBCx*rx)+(vBCy*ry))/r;\n",
    "                double vBrx = aB*rx/r;\n",
    "                double vBry = aB*ry/r;\n",
    "\n",
    "                //Vetor perpendicular ao vetor projetado no raio de colisão\n",
    "                double vBrpx = vBCx-vBrx;\n",
    "                double vBrpy = vBCy-vBry; \n",
    "\n",
    "                //Cálculos das novas velocidades\n",
    "                double vBrxn = ((bodiesProximo[b].mass-bodiesProximo[c].mass)/(bodiesProximo[b].mass + bodiesProximo[c].mass))*vBrx;\n",
    "                double vBryn = ((bodiesProximo[b].mass-bodiesProximo[c].mass)/(bodiesProximo[b].mass + bodiesProximo[c].mass))*vBry;\n",
    "                double vCrxn = ((2*bodiesProximo[b].mass)/(bodiesProximo[b].mass + bodiesProximo[c].mass))*vBrx;\n",
    "                double vCryn = ((2*bodiesProximo[b].mass)/(bodiesProximo[b].mass + bodiesProximo[c].mass))*vBry;\n",
    "\n",
    "                //Novas velocidades em relação ao sistema de coordenadas\n",
    "                bodiesProximo[b].vx=(vBrxn+vBrpx)+bodiesProximo[c].vx;\n",
    "                bodiesProximo[b].vy=(vBryn+vBrpy)+bodiesProximo[c].vy;\n",
    "                bodiesProximo[c].vx=vCrxn+bodiesProximo[c].vx;\n",
    "                bodiesProximo[c].vy=vCryn+bodiesProximo[c].vy;\n",
    "            } \n",
    "        }\n",
    "    }\n",
    "}"
   ]
  },
  {
   "cell_type": "markdown",
   "metadata": {},
   "source": [
    "Além dos métodos a cima, também foram implementados outros três métodos importantes, são eles: checkMerge(), update() e checkIfEnded(). \n",
    "O primeiro checa se as bolas se fundiram ou se ficaram presas nas bordas após a atualização das posições, caso isso aconteça essa atualização é desfeita. O update() atualiza as posições e velocidades de todos os corpos e o checkIfEnded() verifica se as velocidades de todos os corpos é igual a zero, indicando que a simulação terminou"
   ]
  },
  {
   "cell_type": "raw",
   "metadata": {},
   "source": [
    "//Checar se as bolas se fundiram\n",
    "void Visualizador::checkMerge(){\n",
    "    for(int b = 0; b< num_balls; b++){\n",
    "\n",
    "        //Verifica se corpo ficou preso nas bordas\n",
    "        if(bodiesProximo[b].x + bodiesProximo[b].radius >= field_width){\n",
    "            bodiesProximo[b].x=bodiesAtual[b].x;\n",
    "        }\n",
    "        if(bodiesProximo[b].x - bodiesProximo[b].radius <= 0){\n",
    "            bodiesProximo[b].x=bodiesAtual[b].x;\n",
    "        }\n",
    "        if(bodiesProximo[b].y + bodiesProximo[b].radius >= field_height){\n",
    "            bodiesProximo[b].y=bodiesAtual[b].y;\n",
    "        }\n",
    "        if(bodiesProximo[b].y - bodiesProximo[b].radius <= 0){\n",
    "            bodiesProximo[b].y=bodiesAtual[b].y;\n",
    "        }\n",
    "\n",
    "        for(int c=b+1; c<num_balls; c++){\n",
    "\n",
    "            double rx = bodiesProximo[c].x - bodiesProximo[b].x;\n",
    "            double ry = bodiesProximo[c].y - bodiesProximo[b].y;\n",
    "            double r = sqrt(pow(rx,2) + pow(ry,2));\n",
    "\n",
    "            if (r < bodiesProximo[b].radius + bodiesProximo[c].radius-1E-9){\n",
    "                //Caso elas tenham se fundido a posição não é atualizada\n",
    "                bodiesProximo[b].x = bodiesAtual[b].x;\n",
    "                bodiesProximo[b].y = bodiesAtual[b].y;\n",
    "                bodiesProximo[c].x = bodiesAtual[c].x;\n",
    "                bodiesProximo[c].y = bodiesAtual[c].y;\n",
    "            }\n",
    "        }\n",
    "    }\n",
    "}"
   ]
  },
  {
   "cell_type": "raw",
   "metadata": {},
   "source": [
    "//Atualização das posições e das velocidades de todas as bolinhas\n",
    "void Visualizador::update(){\n",
    "    #pragma omp parallel for\n",
    "    for(int b=0; b<num_balls; b++){\n",
    "        bodiesAtual[b] = bodiesProximo[b];\n",
    "    }\n",
    "}"
   ]
  },
  {
   "cell_type": "raw",
   "metadata": {},
   "source": [
    "//Avalia se as velocidades de todas as bolinhas são iguais a zero, indicando que a simulação terminou\n",
    "bool Visualizador::checkIfEnded(){\n",
    "    bool f = true; \n",
    "    for(int b=0; b<num_balls; b++){\n",
    "        if(bodiesAtual[b]. vx != 0 || bodiesAtual[b].vy !=0){\n",
    "            f = f & false;\n",
    "        }\n",
    "        else{\n",
    "            f=f & true;\n",
    "        }\n",
    "    }\n",
    "    return f;\n",
    "}"
   ]
  },
  {
   "cell_type": "markdown",
   "metadata": {},
   "source": [
    "## Entrada e saída do programa"
   ]
  },
  {
   "cell_type": "markdown",
   "metadata": {},
   "source": [
    "A entrada do programa está no seguinte formato:"
   ]
  },
  {
   "cell_type": "markdown",
   "metadata": {},
   "source": [
    "      W H N\n",
    "      mu alpha_w alpha_b\n",
    "      <id> <raio> <massa> <x0> <y0> <vx0> <vy0>"
   ]
  },
  {
   "cell_type": "markdown",
   "metadata": {},
   "source": [
    "Onde"
   ]
  },
  {
   "cell_type": "markdown",
   "metadata": {},
   "source": [
    "    • W e H são as dimensões do campo da simulação. Nenhum corpo pode sair deste retângulo e, se algum corpo tocar a borda da simulação deve ocorrer uma colisão.\n",
    "    • mu é o coeficiente de atrito dinâmico do campo.\n",
    "    • alpha_w é a proporção de energia cinética mantida após uma colisão entre um corpo e a parede. Se E_wall=1 a colisão é perfeitamente elástica. (Esse modelo não contempla essa variável, por isso no arquivo de entrada é inserido como '1')\n",
    "    • alpha_b é a proporção de energia cinética mantida após uma colisão entre dois corpos. Se E_ball=1 a colisão é perfeitamente elástica.(Esse modelo não contempla essa variável, por isso no arquivo de entrada é inserido como '1')\n",
    "    • N é o número de corpos a serem simulados."
   ]
  },
  {
   "cell_type": "markdown",
   "metadata": {},
   "source": [
    "Cada linha a seguir define um novo corpo e suas propriedades (raio, massa, posição e velocidade inicial). Estamos supondo que todos os corpos são feitos do mesmo material, logo a colisão entre corpos segue a mesma regra de conservação de energia cinética Todos os valores devem ser escritos no sistema internacional (SI)."
   ]
  },
  {
   "cell_type": "markdown",
   "metadata": {},
   "source": [
    "Para determinar o valor de ${\\Delta t}$, o programa leva em consideração a variável ambiente DELTA_T. Caso ela não seja inicializada essa variável assume ${\\Delta t}=0.01$."
   ]
  },
  {
   "cell_type": "markdown",
   "metadata": {},
   "source": [
    "O programa desenvolvido tem como opção a visualização da simulação das colisões em um visualizador. Ele é conveniente para verificar o resultado das simulações visualmente, mas não serve como medidor de desempenho. Caso seja requerido o visualizador, é necessário setar a variável ambiente GUI=1 e é possível utilizar os arquivos de entrada disponibilizados na pasta Inputs (input_A.txt ao input_G.txt). A GUI pode assumir outros dois modos GUI=0, no qual faz com que seja impresso, a cada segundo da simulação, o tempo atual da simulação e uma lista contendo todos os objetos e seus estados atuais (no mesmo formato de entrada menos as primeiras duas linhas). Caso houver um choque entre dois objetos o programa imprime CHOQUE ID_0 ID_1 D_T. Usando como convenção ID_0<ID_1 e D_T o momento da simulação que houve o choque. O outro modo é GUI=2, usado para fazer as análises de desempenho o qual apenas retorna o tempo de simulação."
   ]
  },
  {
   "cell_type": "markdown",
   "metadata": {},
   "source": [
    "## Análise de desempenho"
   ]
  },
  {
   "cell_type": "markdown",
   "metadata": {},
   "source": [
    "Como dito anteriormente, um dos objetivos desse projeto é comparar os desempenhos de diferentes técnicas de super computação. Foram confrontadas a estratégia de vetorização SIMD (http://moss.csc.ncsu.edu/~mueller/cluster/ps3/SDK3.0/docs/accessibility/sdkpt/cbet_1simdvector.html) e a paralelização OpenMP (https://www.dartmouth.edu/~rc/classes/intro_openmp/print_pages.shtml). Além de também compará-las com o modelo sem nenhuma otimização."
   ]
  },
  {
   "cell_type": "markdown",
   "metadata": {},
   "source": [
    "Para fazer essa comparação foi preciso compilar o programa usando as flags corretas. Para a estratégia de otimização OMP as flags usadas foram:"
   ]
  },
  {
   "cell_type": "markdown",
   "metadata": {},
   "source": [
    "    -fopenmp -lpthread -O2"
   ]
  },
  {
   "cell_type": "markdown",
   "metadata": {},
   "source": [
    "Para a estratégia SIMD as flags foram:"
   ]
  },
  {
   "cell_type": "markdown",
   "metadata": {},
   "source": [
    "    -ffast-math -ftree-vectorize -mavx2 -O2"
   ]
  },
  {
   "cell_type": "markdown",
   "metadata": {},
   "source": [
    "E para a sequencial as flags são:"
   ]
  },
  {
   "cell_type": "markdown",
   "metadata": {},
   "source": [
    "    -O2"
   ]
  },
  {
   "cell_type": "markdown",
   "metadata": {},
   "source": [
    "Para fazer essa análise de desempenho, usou-se uma máquina virtual Ubuntu através da aplicação Paralles instalada em um Macbook. Foi disponibilizada à maquina virtual 4 processadores e 2 GB de memória"
   ]
  },
  {
   "cell_type": "markdown",
   "metadata": {},
   "source": [
    "Optou-se por começar com a ferramente omp e, para paralelisar o código, fez-se algumas modificações. Nos métodos walk(), checkMerge() e update() foram adicionado *#pragma omp parallel for*, o qual faz com que a função *for* desses métodos seja executada em paralelo. Essas funções aceitam esse tipo de paralelização pois as modificações feitas por cada thread não afetam as outras. O método checkIfEnded() também foi paralelizado porém foi adicionado uma operação de redução (*#pragma omp parallel for reduction (&:f)*, onde f é uma variável booleana que indica se os corpos pararam). Isso aconteceu pois é preciso juntar as informação retornadas de cada thread para perceber se todas os corpos pararam. "
   ]
  },
  {
   "cell_type": "raw",
   "metadata": {},
   "source": [
    "//Movimentação dos corpos\n",
    "void Visualizador::walk(){\n",
    "    #pragma omp parallel for\n",
    "    for(int b = 0; b<num_balls; b++){...}\n",
    "\n",
    "//Checar se as bolas se fundiram\n",
    "void Visualizador::checkMerge(){\n",
    "    #pragma omp parallel for\n",
    "    for(int b = 0; b< num_balls; b++){...}\n",
    "\n",
    "//Atualização das posições e das velocidades de todas as bolinhas\n",
    "void Visualizador::update(){\n",
    "    #pragma omp parallel for\n",
    "    for(int b=0; b<num_balls; b++){...}\n",
    "\n",
    "//Avalia se as velocidades de todas as bolinhas são iguais a zero, indicando que a simulação terminou \n",
    "bool Visualizador::checkIfEnded(){\n",
    "    bool f = true; \n",
    "    #pragma omp parallel for reduction (&:f)\n",
    "    for(int b=0; b<num_balls; b++){...}"
   ]
  },
  {
   "cell_type": "markdown",
   "metadata": {},
   "source": [
    "A função collision() não pode ser paralelizada pois, caso fosse, as modificação feitas por cada thread iriam interfirir nos cáculos das outras, comprometendo a física da simulação."
   ]
  },
  {
   "cell_type": "markdown",
   "metadata": {},
   "source": [
    "Para obter os tempos de simulação é preciso setar as variáveis de ambiente:"
   ]
  },
  {
   "cell_type": "markdown",
   "metadata": {},
   "source": [
    "        export GUI=2\n",
    "        export DELTA_T=2"
   ]
  },
  {
   "cell_type": "markdown",
   "metadata": {},
   "source": [
    "E executar o programa python:"
   ]
  },
  {
   "cell_type": "markdown",
   "metadata": {},
   "source": [
    "    python3 run.py"
   ]
  },
  {
   "cell_type": "markdown",
   "metadata": {},
   "source": [
    "Esse programa compila os arquivos com cmake e gera 3 executaveis diferentes: visualizadorOMP, visualizadorSIMD e visualizadorSEQ. Depois, os executa com os 10 diferentes arquivos de entrada disponíveis na pasta Inputs(de input1.txt até inpit10.txt) os quais possuem 49, 196, 441, 784, 1225, 1764, 2401, 3136, 3969 , 4900 bolas para simulação. Por fim, escreve um aquivo de saida out.txt com os valores dos tempos de cada simulação para cada executável, em ordem, da seguinte forma:"
   ]
  },
  {
   "cell_type": "code",
   "execution_count": 11,
   "metadata": {},
   "outputs": [],
   "source": [
    "t_omp=[0.00411809,0.045302,0.278277,1.87368,1.95117,3.80585,8.73512,14.3387,22.5787,35.45]\n",
    "t_simd=[0.00167795,0.0202506,0.0832856,0.272077,0.754292,1.74178,2.70466,6.04801,8.31931,14.5873]\n",
    "t_seq=[0.00853139,0.0658234,0.351196,1.37815,3.10038,6.0728,12.1423,19.7311,33.939,55.4343]"
   ]
  },
  {
   "cell_type": "markdown",
   "metadata": {},
   "source": [
    "Com esses vetores é possível fazer uma análise visual do desempenho, como pode ser visto abaixo "
   ]
  },
  {
   "cell_type": "code",
   "execution_count": 12,
   "metadata": {},
   "outputs": [
    {
     "data": {
      "image/png": "[encoded data removed]",
      "text/plain": [
       "<Figure size 432x288 with 1 Axes>"
      ]
     },
     "metadata": {},
     "output_type": "display_data"
    }
   ],
   "source": [
    "import matplotlib.pyplot as plt\n",
    "num_balls = [49, 196, 441, 784, 1225, 1764, 2401, 3136, 3969 , 4900]\n",
    "\n",
    "seql, = plt.plot(num_balls, t_seq, 'ro-', label='sequencial')\n",
    "simdl, = plt.plot(num_balls, t_simd, 'bo-', label='simd')\n",
    "ompl, = plt.plot(num_balls, t_omp, 'co-', label= 'omp')\n",
    "plt.xlabel('Quantidade de bolas')\n",
    "plt.ylabel('Tempo de simulação')\n",
    "plt.title(\"Avaliacao desempenho\")\n",
    "plt.legend(handles=[seql, simdl,ompl])\n",
    "plt.show()"
   ]
  },
  {
   "cell_type": "markdown",
   "metadata": {},
   "source": [
    "Analisando o gráfico acima é possível perceber q ambas as estratégias de super computaçao tiveram um desempenho muito melhor do que o método sequencial. E SIMD teve um desempenho melhor que o OMP, como pode ser visto melhor no grafico abaixo:"
   ]
  },
  {
   "cell_type": "code",
   "execution_count": 13,
   "metadata": {},
   "outputs": [
    {
     "data": {
      "image/png": "[encoded data removed]",
      "text/plain": [
       "<Figure size 432x288 with 1 Axes>"
      ]
     },
     "metadata": {},
     "output_type": "display_data"
    }
   ],
   "source": [
    "simdl, = plt.plot(num_balls, t_simd, 'bo-', label='simd')\n",
    "ompl, = plt.plot(num_balls, t_omp, 'co-', label= 'omp')\n",
    "plt.xlabel('indice do vetor de quantidade de bolas')\n",
    "plt.ylabel('Tempo de simulação')\n",
    "plt.title(\"Avaliacao desempenho\")\n",
    "plt.legend(handles=[simdl,ompl])\n",
    "plt.show()"
   ]
  },
  {
   "cell_type": "code",
   "execution_count": 14,
   "metadata": {},
   "outputs": [
    {
     "name": "stdout",
     "output_type": "stream",
     "text": [
      "Média de ganho omp para seq= 1.4539882492200953\n",
      "Média de ganho simd para seq= 4.084531439768189\n",
      "Média de ganho simd para omp= 3.043559341737869\n"
     ]
    }
   ],
   "source": [
    "seq_omp_media=0\n",
    "seq_simd_media=0\n",
    "omp_simd_media=0\n",
    "count =0\n",
    "\n",
    "for i in range (0, len(t_seq)):\n",
    "    for i in range(0, len(t_omp)):\n",
    "        seq_omp_media = seq_omp_media + (t_seq[i]/t_omp[i])\n",
    "        seq_simd_media = seq_simd_media + (t_seq[i]/t_simd[i])\n",
    "        omp_simd_media = omp_simd_media + (t_omp[i]/t_simd[i])\n",
    "        count+=1\n",
    "        \n",
    "print(\"Média de ganho omp para seq= \" + str(seq_omp_media/count))\n",
    "print(\"Média de ganho simd para seq= \" + str(seq_simd_media/count))\n",
    "print(\"Média de ganho simd para omp= \" + str(omp_simd_media/count))"
   ]
  },
  {
   "cell_type": "markdown",
   "metadata": {},
   "source": [
    "Vendo o resultado a cima, o qual diz que a média do ganho do simd em relação ao omp é de cerca de 8.97. Confirmando que, em média, o simd tem melhor performance."
   ]
  }
 ],
 "metadata": {
  "kernelspec": {
   "display_name": "Python 3",
   "language": "python",
   "name": "python3"
  },
  "language_info": {
   "codemirror_mode": {
    "name": "ipython",
    "version": 3
   },
   "file_extension": ".py",
   "mimetype": "text/x-python",
   "name": "python",
   "nbconvert_exporter": "python",
   "pygments_lexer": "ipython3",
   "version": "3.6.5"
  }
 },
 "nbformat": 4,
 "nbformat_minor": 2
}

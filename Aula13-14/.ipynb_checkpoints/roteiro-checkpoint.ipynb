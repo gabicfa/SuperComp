{
 "cells": [
  {
   "cell_type": "markdown",
   "metadata": {},
   "source": [
    "% 13 - Sincronização\n",
    "% Super Computação 2018/2\n",
    "% Igor Montagner, Luciano Soares\n",
    "\n",
    "**Entrega**: 24/09\n",
    "\n",
    "# Parte 1 - Sincronização em C++ threads\n",
    "\n",
    "No roteiro 03 criamos threads e as executamos usando o pacote `<threads>` adicionado após C++11. Neste módulo do curso vamos deixar o OpenMP de lado e voltar a usar esta API. \n",
    "\n",
    "**Exercício**: crie um arquivo *thread1.cpp* com uma função `main` que cria 4 threads. Cada thread deverá rodar uma função que imprime um id entre 0 e 3 passado pelo `main`. \n",
    "\n",
    "Se for necessário, revise o conteúdo do roteiro 03."
   ]
  },
  {
   "cell_type": "markdown",
   "metadata": {},
   "source": [
    "## Mutex\n",
    "\n",
    "Você deve ter notado que, por vezes, os prints do seu programa aparecem embaralhados. Já sabemos que isto ocorre pois a saída padrão é um recurso que está sendo compartilhado por várias threads. Na expositiva vimos que devemos guardar a seção que  utiliza recursos compartilhados usando um *Mutex*.\n",
    "\n",
    "**Exercício**: C++11 possui um objeto do tipo `std::mutex`, mas ele não é muito usado. Em contrapartida, são usados `std::lock_guard` e `std::unique_lock`. Por que? \n"
   ]
  },
  {
   "cell_type": "markdown",
   "metadata": {},
   "source": [
    "**Resposta**: O lock_guard e o unique_lock desbloqueiam automaticamente o mutex quando ele sai do escopo. Isso torna impossível esquecer de desbloqueá-lo, ao retornar ou quando uma exceção é lançada. Por isso o std::mutex é menos usado, pois esse tem mais margem para erro. "
   ]
  },
  {
   "cell_type": "markdown",
   "metadata": {},
   "source": [
    "\n",
    "**Exercício**: conserte o problema dos prints embaralhados usando sua pesquisa acima. Qual a vantagem da técnica usada em comparação do uso direto de um `std::mutex`?\n",
    "\n",
    "**Dica**: se você está com problemas em passar seu mutex para função da thread, isto ocorre pois ele não pode ser *copiado*, apenas passado como referência para outras threads. Para usar referências em conjunto com o construtor de `std::thread` você precisa passar seu mutex usando `std::ref` ([documentação](https://en.cppreference.com/w/cpp/thread/thread/thread) - seção Notes).\n",
    "\n",
    "**Dica 2**: se você está usando um mutex global, pare de fazer isto e veja a dica 1. "
   ]
  },
  {
   "cell_type": "raw",
   "metadata": {},
   "source": [
    "#include <thread>\n",
    "#include <iostream>\n",
    "#include <mutex>\n",
    "\n",
    "std::mutex mtx;\n",
    "\n",
    "void thread_f(int i) {\n",
    "  std::unique_lock<std::mutex> lck(mtx);\n",
    "  std::cout << \"thread id= \" << i << std::endl;\n",
    "}\n",
    "\n",
    "\n",
    "int main() {\n",
    "\n",
    "  int max_threads = 4;\n",
    "\n",
    "  std::thread *array = new std::thread[max_threads];\n",
    "\n",
    "  for(int i = 0; i < max_threads; i++){\n",
    "    array[i] = std::thread(thread_f,i);\n",
    "  }\n",
    "  for(int i = 0; i< max_threads; i++){\n",
    "    array[i].join();\n",
    "  }\n",
    "}"
   ]
  },
  {
   "cell_type": "markdown",
   "metadata": {},
   "source": [
    "A vantagem é que o unique_lock desbloqueia automaticamente o mutex"
   ]
  },
  {
   "cell_type": "markdown",
   "metadata": {},
   "source": [
    "## Condition Variable\n",
    "\n",
    "Neste módulo estamos tratando de paralelismo **por tarefas**. Agora nosso foco não é mais dividir os dados em várias partes e processá-los em paralelo, mas sim processar tarefas inteiras (possivelmente complexas) de maneira paralela **quando possível**. C++11 possui uma implementação de variáveis de condição fácil de usar. Nesta seção iremos sincronizar tarefas que dependem parcialmente umas das outras (ou seja, parte de uma tarefa depende de um resultado de outra enquanto o restante é independente). Ao executarmos as partes independentes de maneira paralela podemos obter grandes ganhos de desempenho em processos longos. \n",
    "\n",
    "Trabalharemos primeiro no arquivo *rdv.cpp*. Queremos sincronizar as duas funções para que elas se sincronizem em um certo ponto e depois progridam de maneira independente. \n",
    "\n",
    "**Exercício**: Foi feita uma tentativa de uso de variáveis de condição para resolver este problema, porém ela está dando resultados estranhos. Execute *rdv.cpp* diversas vezes e relate qual o problema que ocorre. Você consegue entender a causa deste problema?"
   ]
  },
  {
   "cell_type": "markdown",
   "metadata": {},
   "source": [
    "**Resposta**: O problema é que ambos os trablhos começam mas apenas um deles termina. Isso acontece pois uma tarefa faz uma notify_one() antes da outra tarefa chegar no wait() e como a informação do notify_one() não é guardada, a segunda tarefa fica aguardando ao que ja aconteceu."
   ]
  },
  {
   "cell_type": "markdown",
   "metadata": {},
   "source": [
    "Uma maneira de consertar o problema acima é pedir para a variável de condição checar *explicitamente* a condição que ela guarda. Ou seja, ela é capaz de checar se a condição é verdadeira quando *wait* é chamado e **não** bloquear. A função *notify_one* neste caso acorda uma thread para que ela cheque *explicitamente* se a condição é verdadeira. \n",
    "\n",
    "Para isto devemos chamar uma versão de `wait` que aceita um *lambda* que faz a checagem da condição, como no exemplo abaixo. Ao ser notificada (e na primeira chamada a `wait`) a função é executada e, se a condição for verdadeira o código continua a ser executado. \n",
    "\n",
    "~~~{.cpp}\n",
    "cv.wait(lk, []{return cond == true; });\n",
    "~~~\n",
    "\n",
    "A sintaxe de *lambda* é um pouco estranha, então é sugerido olhar [este link](https://stackoverflow.com/questions/7627098/what-is-a-lambda-expression-in-c11) antes de prosseguir.\n",
    "\n",
    "**Exercício**: Modifique *rdv.cpp* para ter o comportamento correto usando a técnica descrita acima. \n",
    "\n",
    "**Dica**: antes de fazer este exercício leia a [documentação](https://en.cppreference.com/w/cpp/thread/condition_variable) sobre variáveis de condição. \n"
   ]
  },
  {
   "cell_type": "raw",
   "metadata": {},
   "source": [
    "#include <iostream>\n",
    "#include <chrono>\n",
    "#include <thread>\n",
    "#include <mutex>\n",
    "#include <condition_variable>\n",
    "\n",
    "std::mutex A, B;\n",
    "std::condition_variable cA, cB;\n",
    "\n",
    "bool ready=false;\n",
    "bool processed=false;\n",
    "\n",
    "void tarefaA() {\n",
    "\n",
    "    std::cout << \"Faz trabalho A\" << std::endl;\n",
    "    \n",
    "    {\n",
    "        std::unique_lock<std::mutex> lk(A);\n",
    "        ready=true;\n",
    "        cA.notify_one();\n",
    "    }\n",
    "    \n",
    "    {\n",
    "        std::unique_lock<std::mutex> lk(B);\n",
    "        cB.wait(lk,[]{return processed;});\n",
    "    }\n",
    "    \n",
    "    \n",
    "// DESEJO ESPERAR POR B AQUI!\n",
    "    std::cout << \"Fim trabalho A\" << std::endl;\n",
    "}\n",
    "\n",
    "void tarefaB() {\n",
    "\n",
    "    std::cout << \"Faz trabalho B\" << std::endl;\n",
    "    {\n",
    "        std::unique_lock<std::mutex> lk(B);\n",
    "        processed=true;\n",
    "        cB.notify_one();\n",
    "    }\n",
    "    {\n",
    "        std::unique_lock<std::mutex> lk(A);\n",
    "        cA.wait(lk,[]{return ready;});\n",
    "    }\n",
    "// DESEJO ESPERAR POR A AQUI!\n",
    "    std::cout << \"Fim trabalho B\" << std::endl;\n",
    "}\n",
    "\n",
    "int main(int argc, char *argv[]) {\n",
    "    std::thread t1(tarefaA);\n",
    "    std::thread t2(tarefaB);\n",
    "    \n",
    "    \n",
    "    t1.join();\n",
    "    t2.join();\n",
    "    return 0;\n",
    "}"
   ]
  },
  {
   "cell_type": "markdown",
   "metadata": {},
   "source": [
    "Vamos agora trabalhar no arquivo *cond_var.cpp*, em que usaremos variáveis de condição para sincronizar o progresso de três funções cujas tarefas podem ser parcialmente feitas em paralelo. \n",
    "\n",
    "**Exercício**: quanto tempo a execução sequencial das três funções demorará?"
   ]
  },
  {
   "cell_type": "raw",
   "metadata": {},
   "source": [
    "tempo thread0 = 300 + 1300 = 1600 msegs\n",
    "tempo thread1 = 1500 msegs\n",
    "tempo thread2 = 1500 + 500 = 2000 msegs\n",
    "tempo total = 1600 + 1500 + 2000  = 5100 msegs"
   ]
  },
  {
   "cell_type": "markdown",
   "metadata": {},
   "source": [
    "**Exercício**: algumas partes das tarefas poderiam ser feitas de modo concorrente. Desenhe abaixo um gráfico mostrando qual seria a execução de menor tempo das três tarefas acima."
   ]
  },
  {
   "cell_type": "markdown",
   "metadata": {},
   "source": [
    "<img src=\"grafico_threads.png\">"
   ]
  },
  {
   "cell_type": "markdown",
   "metadata": {},
   "source": [
    "Este tipo de processamento é chamado de **pipeline**: cada tarefa avisa as tarefas que dependem dela que seu trabalho foi concluído. Se duas tarefas são independentes elas podem rodar em paralelo. Note que usamos referências constantes (`int const&`) para os resultados calculados por outras tarefas. Isto significa que uma vez calculado este resultado não pode ser modificado por outras tarefas que dependem dele. \n",
    "\n",
    "Vamos agora nos concentrar no uso de variáveis de condição para que as threads executem da maneira desenhada no exercício anterior. Precisamos nos atentar aos seguintes detalhes:\n",
    "\n",
    "1. Cada variável de condição precisa de um *mutex* associado a ela e este *mutex* protege o acesso às variáveis usadas na checagem de sua condição.\n",
    "1. Uma variável de condição é responsável por sinalizar que um recurso específico foi produzido. Se existe mais de um recurso possivelmente será necessário usar mais de uma variável de condição.\n",
    "1. Não se esqueça que variáveis de condição não guardam *notify*s. Ou seja, se não tem ninguém esperando *notify_one* é perdido, o que pode implicar em um programa em *deadlock*.\n",
    "\n",
    "**Exercício**: Modifique o programa *cond_var.cpp* para que a execução seja feita da maneira desenhada no exercício anterior. "
   ]
  },
  {
   "cell_type": "raw",
   "metadata": {},
   "source": [
    "#include <iostream>\n",
    "#include <thread>\n",
    "#include <condition_variable>\n",
    "#include <chrono>\n",
    "#include <mutex>\n",
    "using namespace std::chrono;\n",
    "\n",
    "std::mutex A, B;\n",
    "std::condition_variable cA, cB;\n",
    "\n",
    "bool readyA=false;\n",
    "bool readyB=false;\n",
    "\n",
    "void thread0(int &resultado_para_thread1) {\n",
    "    \n",
    "    {\n",
    "        std::unique_lock<std::mutex> lk(A);\n",
    "        // faz trabalho longo\n",
    "        std::this_thread::sleep_for(std::chrono::milliseconds(300));\n",
    "        resultado_para_thread1 = 10;\n",
    "        readyA=true;\n",
    "        cA.notify_one();\n",
    "    }\n",
    "    \n",
    "    // faz trabalho longo\n",
    "    std::this_thread::sleep_for(std::chrono::milliseconds(1300));\n",
    "    std::cout << \"Fim thread0!\" << std::endl;\n",
    "}\n",
    "\n",
    "void thread1(int const &resultado_da_thread0, int &resultado_para_thread2) {\n",
    "\n",
    "    {\n",
    "        std::unique_lock<std::mutex> lk(B);\n",
    "        cA.wait(lk,[]{return readyA;});\n",
    "        // faz trabalho long com resultado de thread0\n",
    "        std::this_thread::sleep_for(std::chrono::milliseconds(1500));\n",
    "        // finja que isto depende da thread0\n",
    "        resultado_para_thread2 = 20; \n",
    "        std::cout << \"Fim thread1!\" << std::endl;\n",
    "        readyB=true;\n",
    "        cB.notify_one();\n",
    "    }\n",
    "}\n",
    "\n",
    "void thread2(int const &resultado_thread_0, int const &resultado_thread_1) {\n",
    "    {\n",
    "        std::unique_lock<std::mutex> lk(A);\n",
    "        cA.wait(lk,[]{return readyA;});\n",
    "        // faz trabalho longo com resultado de thread0\n",
    "        std::this_thread::sleep_for(std::chrono::milliseconds(1500));\n",
    "    }\n",
    "    \n",
    "    {\n",
    "        std::unique_lock<std::mutex> lk(B);\n",
    "        cB.wait(lk,[]{return readyB;});\n",
    "        // faz trabalho longo com resultado de thread1\n",
    "        std::this_thread::sleep_for(std::chrono::milliseconds(500));\n",
    "    }\n",
    "    \n",
    "    std::cout << \"thread2:\" << resultado_thread_0 + resultado_thread_1 << \"\\n\";\n",
    "    std::cout << \"Fim thread2!\" << std::endl;\n",
    "}\n",
    "\n",
    "int main(int argc, char **argv) {\n",
    "    int res_t0, res_t1;\n",
    "    high_resolution_clock::time_point t4 = high_resolution_clock::now();\n",
    "\n",
    "    std::thread t1(thread0, std::ref(res_t0));\n",
    "    std::thread t2(thread1, std::ref(res_t0), std::ref(res_t1));\n",
    "    std::thread t3(thread2, std::ref(res_t0), std::ref(res_t1));\n",
    "\n",
    "    t1.join();\n",
    "    t2.join();\n",
    "    t3.join();\n",
    "\n",
    "    high_resolution_clock::time_point t5 = high_resolution_clock::now();\n",
    "    duration<double> time_span = duration_cast<duration<double> >(t5 - t4);\n",
    "    std::cout << time_span.count() << '\\n';\n",
    "    return 0;\n",
    "}"
   ]
  },
  {
   "cell_type": "markdown",
   "metadata": {},
   "source": [
    "## Semaphores\n",
    "\n",
    "C++ não possui uma implementação padrão de semáforos, mas é bastante fácil criar uma. Sua tarefa neste exercício será criar uma implementação de semáforos usando as primitivas de sincronização acima. Você deverá implementar uma classe *Semaphore* contendo os métodos `void acquire()` e `void release()`. \n",
    "\n",
    "**Exercício**: Quais primitivas de sincronização são necessárias para implementar um semáforo? Como elas devem ser usadas?"
   ]
  },
  {
   "cell_type": "markdown",
   "metadata": {},
   "source": [
    "As primitivas de sincronização necessárias para implementar um semáforo são mutex e variáveis de condição. A variável de condição será usada para informar o valor do semáforo. O mutex vai barrar a thread até o valor do semaforo ser o adequado."
   ]
  },
  {
   "cell_type": "markdown",
   "metadata": {},
   "source": [
    "**Exercício**: escreva, em pseudo-código, qual deverá ser o comportamento do método `void acquire()`. "
   ]
  },
  {
   "cell_type": "raw",
   "metadata": {},
   "source": [
    "se valor > 0:\n",
    "    valor = valor -1\n",
    "se valor <=0:\n",
    "    esperar até que valor > 0"
   ]
  },
  {
   "cell_type": "markdown",
   "metadata": {},
   "source": [
    "**Exercício**: escreva, em pseudo-código, qual deverá ser o comportamento do método `void release()`."
   ]
  },
  {
   "cell_type": "raw",
   "metadata": {},
   "source": [
    "valor = valor + 1\n",
    "    se valor > 0\n",
    "        libera o mutex"
   ]
  },
  {
   "cell_type": "markdown",
   "metadata": {},
   "source": [
    "**Exercício**: implemente a classe *Semaphore* e use sua implementação para criar uma versão mais simples do *rdv.cpp*. \n",
    "\n",
    "----\n",
    "\n",
    "**Atenção**: existem implementações prontas de semáforos em C++ pela internet. Entregar um código que não corresponda às respostas acima pode implicar em nota 0 nesta atividade. "
   ]
  },
  {
   "cell_type": "raw",
   "metadata": {},
   "source": [
    "#include <iostream>\n",
    "#include <mutex>\n",
    "#include <condition_variable>\n",
    "\n",
    "class Semaphore{\n",
    "    public:\n",
    "        Semaphore(int count);\n",
    "        void acquire();\n",
    "        void release();\n",
    "        std::mutex A;\n",
    "        std::condition_variable cA;\n",
    "\n",
    "    private:\n",
    "        int count;  \n",
    "};\n",
    "\n",
    "Semaphore::Semaphore(int count):\n",
    "    count(count){};\n",
    "\n",
    "void Semaphore::acquire() {\n",
    "    {\n",
    "        std::unique_lock<std::mutex> lk(A);\n",
    "        cA.wait(lk, [&]{return count >0;});\n",
    "        count = count-1;     \n",
    "    }\n",
    "}\n",
    "\n",
    "void Semaphore::release() {\n",
    "    {\n",
    "        std::unique_lock<std::mutex> lk(A);\n",
    "        count = count + 1;\n",
    "    }\n",
    "    cA.notify_one();\n",
    "}"
   ]
  },
  {
   "cell_type": "raw",
   "metadata": {},
   "source": [
    "#include <iostream>\n",
    "#include <chrono>\n",
    "#include <thread>\n",
    "#include \"semaphore.cpp\"\n",
    "\n",
    "Semaphore s2(0);\n",
    "Semaphore s1(0);\n",
    "\n",
    "void tarefaA() {\n",
    "\n",
    "    std::cout << \"Faz trabalho A\" << std::endl;\n",
    "    s2.release();\n",
    "    s1.acquire();\n",
    "    std::cout << \"Fim trabalho A\" << std::endl;\n",
    "    \n",
    "// DESEJO ESPERAR POR B AQUI!\n",
    "    \n",
    "}\n",
    "\n",
    "void tarefaB() {\n",
    "\n",
    "    std::cout << \"Faz trabalho B\" << std::endl;\n",
    "    s1.release();\n",
    "    s2.acquire();\n",
    "    std::cout << \"Fim trabalho B\" << std::endl;    \n",
    "\n",
    "// DESEJO ESPERAR POR A AQUI!\n",
    "    \n",
    "}\n",
    "\n",
    "int main(int argc, char *argv[]) {\n",
    "    std::thread t1(tarefaA);\n",
    "    std::thread t2(tarefaB);\n",
    "    t1.join();\n",
    "    t2.join();\n",
    "    return 0;\n",
    "}"
   ]
  },
  {
   "cell_type": "markdown",
   "metadata": {},
   "source": [
    "# Parte 2 - Produtor Consumidor\n",
    "\n",
    "Na expositiva vimos o modelo de computação concorrente *Produtor-Consumidor*. Usando os conhecimentos adquiridos até agora, implemente este modelo usando C++11 threads. Seu programa deve possuir:\n",
    "\n",
    "1. uma fila de tarefas contendo inteiros;\n",
    "1. uma função `void produce()` que irá produzir inteiros aleatórios entre 0 e 100;\n",
    "1. uma função `void consume()` que irá tirar inteiros da fila de tarefas e imprimir seu quadrado;\n",
    "\n",
    "Para melhorar seus testes você deve incluir no seu código alguns `sleep` para que fique mais claro o que está acontecendo. "
   ]
  },
  {
   "cell_type": "raw",
   "metadata": {},
   "source": [
    "class Queue{\n",
    "    public:\n",
    "        Queue();\n",
    "        void add(int elem);\n",
    "        int get();\n",
    "\n",
    "    private:\n",
    "        int to_produce;\n",
    "        int to_consume;\n",
    "        int *data;\n",
    "};\n",
    "\n",
    "Queue::Queue(){\n",
    "    to_produce = 0;\n",
    "    to_consume = 0;\n",
    "};\n",
    "\n",
    "\n",
    "void Queue::add(int elem){\n",
    "    data[to_produce] = elem;\n",
    "    to_produce ++;\n",
    "}\n",
    "\n",
    "int Queue::get(){\n",
    "    int it = data[to_consume];\n",
    "    to_consume++;\n",
    "    return it;\n",
    "}"
   ]
  },
  {
   "cell_type": "raw",
   "metadata": {},
   "source": [
    "#include <iostream>\n",
    "#include <thread>\n",
    "#include <random>\n",
    "#include <cmath>\n",
    "\n",
    "#include \"semaphore.cpp\"\n",
    "#include \"queue.cpp\"\n",
    "\n",
    "int produce_item(){\n",
    "    return rand()%(100-0 + 1) + 0;\n",
    "}\n",
    "\n",
    "void consume_item(int item){\n",
    "    std::cout << pow(item, 2) << '\\n';\n",
    "}\n",
    "\n",
    "void produce(Queue& q, Semaphore& s){\n",
    "    int it = produce_item();\n",
    "    q.add(it);\n",
    "    s.release();\n",
    "\n",
    "    produce(q, s);\n",
    "}\n",
    "\n",
    "void consume(Queue& q, Semaphore& s){\n",
    "    s.acquire();\n",
    "    int it = q.get();\n",
    "    consume_item(it);\n",
    "\n",
    "    consume(q, s);\n",
    "}\n",
    "\n",
    "int main(int argc, char *argv[]) {\n",
    "    Queue q();\n",
    "    Semaphore s(0);\n",
    "\n",
    "    std::thread t1(produce, std::ref(q), std::ref(s));\n",
    "    std::thread t2(consume, std::ref(q), std::ref(s));\n",
    "\n",
    "    t1.join();\n",
    "    t2.join();\n",
    "    return 0;\n",
    "}"
   ]
  }
 ],
 "metadata": {
  "kernelspec": {
   "display_name": "Python 3",
   "language": "python",
   "name": "python3"
  },
  "language_info": {
   "codemirror_mode": {
    "name": "ipython",
    "version": 3
   },
   "file_extension": ".py",
   "mimetype": "text/x-python",
   "name": "python",
   "nbconvert_exporter": "python",
   "pygments_lexer": "ipython3",
   "version": "3.6.5"
  }
 },
 "nbformat": 4,
 "nbformat_minor": 2
}
